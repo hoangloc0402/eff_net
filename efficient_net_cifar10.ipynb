{
 "cells": [
  {
   "cell_type": "code",
   "execution_count": 1,
   "metadata": {},
   "outputs": [
    {
     "data": {
      "text/plain": [
       "device(type='cuda', index=0)"
      ]
     },
     "execution_count": 1,
     "metadata": {},
     "output_type": "execute_result"
    }
   ],
   "source": [
    "import os\n",
    "import json\n",
    "from PIL import Image\n",
    "import numpy as np\n",
    "import matplotlib.pyplot as plt\n",
    "\n",
    "import torch\n",
    "import torch.nn as nn\n",
    "from torch.utils.data import DataLoader, TensorDataset, random_split\n",
    "import torchvision\n",
    "from torchvision import transforms\n",
    "from torchvision.datasets import ImageFolder\n",
    "\n",
    "from efficient_net_pytorch import EfficientNet\n",
    "from sklearn.metrics import classification_report, accuracy_score\n",
    "\n",
    "from IPython.display import clear_output\n",
    "clear_output()\n",
    "\n",
    "device = torch.device(\"cuda:0\" if torch.cuda.is_available() else \"cpu\")\n",
    "device"
   ]
  },
  {
   "cell_type": "code",
   "execution_count": 2,
   "metadata": {},
   "outputs": [],
   "source": [
    "eff_net = dict()\n",
    "def get_eff_net(name):\n",
    "    if name not in eff_net.keys():\n",
    "        full_name = \"efficientnet-\" + name\n",
    "        eff_net[name] = EfficientNet.from_name(full_name, override_params={'num_classes': 10})\n",
    "    return eff_net[name]\n",
    "clear_output()"
   ]
  },
  {
   "cell_type": "code",
   "execution_count": 3,
   "metadata": {},
   "outputs": [],
   "source": [
    "eff_net_pretrained = dict()\n",
    "def get_eff_net_pretrained(name):\n",
    "    if name not in eff_net_pretrained.keys():\n",
    "        full_name = \"efficientnet-\" + name\n",
    "        eff_net_pretrained[name] = EfficientNet.from_pretrained(full_name, num_classes=10)\n",
    "    return eff_net_pretrained[name]\n",
    "clear_output()"
   ]
  },
  {
   "cell_type": "markdown",
   "metadata": {},
   "source": [
    "## Prepare data"
   ]
  },
  {
   "cell_type": "code",
   "execution_count": 4,
   "metadata": {},
   "outputs": [],
   "source": [
    "def get_dataset(model_name=\"b0\"):\n",
    "    resolution = EfficientNet.get_image_size(\"efficientnet-\" + model_name)\n",
    "    tfms = transforms.Compose([#transforms.Resize((300, 200)), \n",
    "                               transforms.Resize(resolution),\n",
    "                               transforms.CenterCrop(resolution), \n",
    "                               transforms.ToTensor(), \n",
    "                               transforms.Normalize([0.485, 0.456, 0.406], [0.229, 0.224, 0.225]),])\n",
    "    cifar = torchvision.datasets.CIFAR10(root='./data', train=True, download=True, transform=tfms)\n",
    "    test_data = torchvision.datasets.CIFAR10(root='./data', train=False, download=True, transform=tfms)\n",
    "    \n",
    "    clear_output()\n",
    "    return cifar, test_data"
   ]
  },
  {
   "cell_type": "code",
   "execution_count": null,
   "metadata": {},
   "outputs": [],
   "source": []
  },
  {
   "cell_type": "markdown",
   "metadata": {},
   "source": [
    "## Utils"
   ]
  },
  {
   "cell_type": "code",
   "execution_count": 5,
   "metadata": {},
   "outputs": [],
   "source": [
    "class AverageMeter(object):\n",
    "    \"\"\"Computes and stores the average and current value\"\"\"\n",
    "    def __init__(self):\n",
    "        self.reset()\n",
    "    def reset(self):\n",
    "        self.val, self.avg, self.sum, self.count = 0, 0, 0, 0\n",
    "    def update(self, val, n=1):\n",
    "        self.sum += val * n\n",
    "        self.count += n\n",
    "        self.avg = self.sum / self.count"
   ]
  },
  {
   "cell_type": "code",
   "execution_count": 6,
   "metadata": {},
   "outputs": [],
   "source": [
    "def plot_graph(loss_list, accuracy_list):\n",
    "    plt.figure(figsize=(15, 4))\n",
    "    plt.subplot(121)\n",
    "    plt.plot(range(len(loss_list)), loss_list, color=\"green\")\n",
    "    plt.ylabel(\"LOSS - Train data\")\n",
    "    plt.xlabel(\"Recorded after every 25 mini batches\")\n",
    "    plt.subplot(122)\n",
    "    plt.plot(range(len(accuracy_list)), accuracy_list, color=\"orange\")\n",
    "    plt.ylabel(\"ACCURACY - Test data\")\n",
    "    plt.xlabel(\"Recorded after every 25 mini batches\")\n",
    "    plt.ylim(0,1)\n",
    "    plt.show()"
   ]
  },
  {
   "cell_type": "markdown",
   "metadata": {},
   "source": [
    "## Train & Eval"
   ]
  },
  {
   "cell_type": "code",
   "execution_count": 7,
   "metadata": {},
   "outputs": [],
   "source": [
    "def train(model, optim, scheduler, train_data, val_data, epochs, batch_size):\n",
    "    loss_list, accuracy_list = list(), list()\n",
    "    criterion = nn.CrossEntropyLoss().to(device)\n",
    "    model.to(device)\n",
    "    model.train()\n",
    "    dataloader = DataLoader(train_data, batch_size, shuffle=True)\n",
    "    loss_meter = AverageMeter()\n",
    "    for epoch in range(epochs):\n",
    "        print(\"EPOCH: \", epoch)\n",
    "        for batch_idx, (inputs, targets) in enumerate(dataloader):\n",
    "            optim.zero_grad()\n",
    "            outputs = model(inputs.to(device))\n",
    "            loss = criterion(outputs, targets.to(device))\n",
    "            loss_meter.update(loss.item(), inputs.size(0))\n",
    "            if batch_idx % 25 == 0:\n",
    "                accuracy = evaluate(model, val_data, batch_size)\n",
    "                print(f\"   BATCH: {batch_idx:>3}, TRAIN_LOSS: {loss_meter.avg:.5f}, VAL_ACCU: {accuracy:.3f}\")\n",
    "                loss_list.append(loss_meter.avg)\n",
    "                accuracy_list.append(accuracy)\n",
    "                loss_meter.reset()\n",
    "            loss.backward()\n",
    "            optim.step()\n",
    "        scheduler.step()\n",
    "    return loss_list, accuracy_list"
   ]
  },
  {
   "cell_type": "code",
   "execution_count": 8,
   "metadata": {},
   "outputs": [],
   "source": [
    "def evaluate(model, data, batch_size=32, print_accu=False):  \n",
    "    model.eval()\n",
    "    accuracy_meter = AverageMeter()\n",
    "    dataloader = DataLoader(data, batch_size, shuffle=False)\n",
    "    with torch.no_grad():\n",
    "        for batch_idx, (inputs, targets) in enumerate(dataloader): \n",
    "            outputs = model(inputs.to(device))\n",
    "            outputs = torch.topk(outputs, k=1).indices.squeeze(0).flatten().cpu().tolist()\n",
    "            targets = targets.flatten().cpu().tolist()\n",
    "            accuracy_meter.update(accuracy_score(outputs, targets), len(targets))\n",
    "    model.train()\n",
    "    if print_accu:\n",
    "        percentage = accuracy_meter.avg*100\n",
    "        print(f\"ACCURACY - Test data: {percentage:.2f}%\")\n",
    "    else:\n",
    "        return accuracy_meter.avg"
   ]
  },
  {
   "cell_type": "markdown",
   "metadata": {},
   "source": [
    "## B0 - w/ pretrained weights"
   ]
  },
  {
   "cell_type": "code",
   "execution_count": 9,
   "metadata": {},
   "outputs": [],
   "source": [
    "total_loss, total_accu = list(), list()"
   ]
  },
  {
   "cell_type": "code",
   "execution_count": 10,
   "metadata": {},
   "outputs": [],
   "source": [
    "model_name = \"b0\"\n",
    "epochs = 15\n",
    "batch_size = 200\n",
    "model = get_eff_net_pretrained(model_name)\n",
    "optim = torch.optim.Adam(model.parameters(), lr=0.0007)\n",
    "lr_scheduler = torch.optim.lr_scheduler.MultiStepLR(optim, [3,5,6,7,8,9,10], gamma=0.5)\n",
    "train_data, test_data = get_dataset(model_name)\n",
    "\n",
    "# batch_size 64 => 8319MiB\n",
    "# batch_size 128 => 15583MiB \n",
    "# batch_size 200 => 23855MiB "
   ]
  },
  {
   "cell_type": "code",
   "execution_count": 11,
   "metadata": {},
   "outputs": [
    {
     "name": "stdout",
     "output_type": "stream",
     "text": [
      "EPOCH:  0\n",
      "   BATCH:   0, TRAIN_LOSS: 2.33756, VAL_ACCU: 0.096\n",
      "   BATCH:  25, TRAIN_LOSS: 0.92184, VAL_ACCU: 0.826\n",
      "   BATCH:  50, TRAIN_LOSS: 0.32371, VAL_ACCU: 0.835\n",
      "   BATCH:  75, TRAIN_LOSS: 0.26423, VAL_ACCU: 0.826\n",
      "   BATCH: 100, TRAIN_LOSS: 0.23535, VAL_ACCU: 0.848\n",
      "   BATCH: 125, TRAIN_LOSS: 0.21604, VAL_ACCU: 0.864\n",
      "   BATCH: 150, TRAIN_LOSS: 0.21438, VAL_ACCU: 0.847\n",
      "   BATCH: 175, TRAIN_LOSS: 0.18713, VAL_ACCU: 0.887\n",
      "   BATCH: 200, TRAIN_LOSS: 0.17599, VAL_ACCU: 0.911\n",
      "   BATCH: 225, TRAIN_LOSS: 0.16481, VAL_ACCU: 0.884\n",
      "EPOCH:  1\n",
      "   BATCH:   0, TRAIN_LOSS: 0.18779, VAL_ACCU: 0.927\n",
      "   BATCH:  25, TRAIN_LOSS: 0.10377, VAL_ACCU: 0.929\n",
      "   BATCH:  50, TRAIN_LOSS: 0.09435, VAL_ACCU: 0.939\n",
      "   BATCH:  75, TRAIN_LOSS: 0.09686, VAL_ACCU: 0.934\n",
      "   BATCH: 100, TRAIN_LOSS: 0.09293, VAL_ACCU: 0.946\n",
      "   BATCH: 125, TRAIN_LOSS: 0.09859, VAL_ACCU: 0.924\n",
      "   BATCH: 150, TRAIN_LOSS: 0.10412, VAL_ACCU: 0.935\n",
      "   BATCH: 175, TRAIN_LOSS: 0.11373, VAL_ACCU: 0.926\n",
      "   BATCH: 200, TRAIN_LOSS: 0.11395, VAL_ACCU: 0.942\n",
      "   BATCH: 225, TRAIN_LOSS: 0.10362, VAL_ACCU: 0.922\n",
      "EPOCH:  2\n",
      "   BATCH:   0, TRAIN_LOSS: 0.10589, VAL_ACCU: 0.949\n",
      "   BATCH:  25, TRAIN_LOSS: 0.05274, VAL_ACCU: 0.946\n",
      "   BATCH:  50, TRAIN_LOSS: 0.04987, VAL_ACCU: 0.946\n",
      "   BATCH:  75, TRAIN_LOSS: 0.05878, VAL_ACCU: 0.949\n",
      "   BATCH: 100, TRAIN_LOSS: 0.07772, VAL_ACCU: 0.951\n",
      "   BATCH: 125, TRAIN_LOSS: 0.06542, VAL_ACCU: 0.947\n",
      "   BATCH: 150, TRAIN_LOSS: 0.06469, VAL_ACCU: 0.949\n",
      "   BATCH: 175, TRAIN_LOSS: 0.05623, VAL_ACCU: 0.954\n",
      "   BATCH: 200, TRAIN_LOSS: 0.06693, VAL_ACCU: 0.947\n",
      "   BATCH: 225, TRAIN_LOSS: 0.07732, VAL_ACCU: 0.947\n",
      "EPOCH:  3\n",
      "   BATCH:   0, TRAIN_LOSS: 0.08597, VAL_ACCU: 0.939\n",
      "   BATCH:  25, TRAIN_LOSS: 0.04550, VAL_ACCU: 0.953\n",
      "   BATCH:  50, TRAIN_LOSS: 0.03319, VAL_ACCU: 0.959\n",
      "   BATCH:  75, TRAIN_LOSS: 0.03020, VAL_ACCU: 0.963\n",
      "   BATCH: 100, TRAIN_LOSS: 0.02505, VAL_ACCU: 0.963\n",
      "   BATCH: 125, TRAIN_LOSS: 0.02578, VAL_ACCU: 0.963\n",
      "   BATCH: 150, TRAIN_LOSS: 0.02084, VAL_ACCU: 0.964\n",
      "   BATCH: 175, TRAIN_LOSS: 0.02234, VAL_ACCU: 0.964\n",
      "   BATCH: 200, TRAIN_LOSS: 0.02632, VAL_ACCU: 0.964\n",
      "   BATCH: 225, TRAIN_LOSS: 0.01997, VAL_ACCU: 0.963\n",
      "EPOCH:  4\n",
      "   BATCH:   0, TRAIN_LOSS: 0.02043, VAL_ACCU: 0.964\n",
      "   BATCH:  25, TRAIN_LOSS: 0.01259, VAL_ACCU: 0.966\n",
      "   BATCH:  50, TRAIN_LOSS: 0.01287, VAL_ACCU: 0.967\n",
      "   BATCH:  75, TRAIN_LOSS: 0.01339, VAL_ACCU: 0.964\n",
      "   BATCH: 100, TRAIN_LOSS: 0.01425, VAL_ACCU: 0.964\n",
      "   BATCH: 125, TRAIN_LOSS: 0.01076, VAL_ACCU: 0.964\n",
      "   BATCH: 150, TRAIN_LOSS: 0.00800, VAL_ACCU: 0.966\n",
      "   BATCH: 175, TRAIN_LOSS: 0.01213, VAL_ACCU: 0.967\n",
      "   BATCH: 200, TRAIN_LOSS: 0.01139, VAL_ACCU: 0.964\n",
      "   BATCH: 225, TRAIN_LOSS: 0.01158, VAL_ACCU: 0.967\n",
      "EPOCH:  5\n",
      "   BATCH:   0, TRAIN_LOSS: 0.01253, VAL_ACCU: 0.967\n",
      "   BATCH:  25, TRAIN_LOSS: 0.00691, VAL_ACCU: 0.967\n",
      "   BATCH:  50, TRAIN_LOSS: 0.00880, VAL_ACCU: 0.968\n",
      "   BATCH:  75, TRAIN_LOSS: 0.00644, VAL_ACCU: 0.968\n",
      "   BATCH: 100, TRAIN_LOSS: 0.00830, VAL_ACCU: 0.969\n",
      "   BATCH: 125, TRAIN_LOSS: 0.00625, VAL_ACCU: 0.970\n",
      "   BATCH: 150, TRAIN_LOSS: 0.00988, VAL_ACCU: 0.969\n",
      "   BATCH: 175, TRAIN_LOSS: 0.00589, VAL_ACCU: 0.968\n",
      "   BATCH: 200, TRAIN_LOSS: 0.00734, VAL_ACCU: 0.969\n",
      "   BATCH: 225, TRAIN_LOSS: 0.00645, VAL_ACCU: 0.970\n",
      "EPOCH:  6\n",
      "   BATCH:   0, TRAIN_LOSS: 0.00712, VAL_ACCU: 0.971\n",
      "   BATCH:  25, TRAIN_LOSS: 0.00583, VAL_ACCU: 0.971\n",
      "   BATCH:  50, TRAIN_LOSS: 0.00549, VAL_ACCU: 0.971\n",
      "   BATCH:  75, TRAIN_LOSS: 0.00619, VAL_ACCU: 0.971\n",
      "   BATCH: 100, TRAIN_LOSS: 0.00655, VAL_ACCU: 0.971\n",
      "   BATCH: 125, TRAIN_LOSS: 0.00638, VAL_ACCU: 0.970\n",
      "   BATCH: 150, TRAIN_LOSS: 0.00405, VAL_ACCU: 0.971\n",
      "   BATCH: 175, TRAIN_LOSS: 0.00403, VAL_ACCU: 0.971\n",
      "   BATCH: 200, TRAIN_LOSS: 0.00484, VAL_ACCU: 0.971\n",
      "   BATCH: 225, TRAIN_LOSS: 0.00520, VAL_ACCU: 0.971\n",
      "EPOCH:  7\n",
      "   BATCH:   0, TRAIN_LOSS: 0.00414, VAL_ACCU: 0.971\n",
      "   BATCH:  25, TRAIN_LOSS: 0.00476, VAL_ACCU: 0.971\n",
      "   BATCH:  50, TRAIN_LOSS: 0.00323, VAL_ACCU: 0.971\n",
      "   BATCH:  75, TRAIN_LOSS: 0.00350, VAL_ACCU: 0.971\n",
      "   BATCH: 100, TRAIN_LOSS: 0.00336, VAL_ACCU: 0.971\n",
      "   BATCH: 125, TRAIN_LOSS: 0.00240, VAL_ACCU: 0.971\n",
      "   BATCH: 150, TRAIN_LOSS: 0.00424, VAL_ACCU: 0.971\n",
      "   BATCH: 175, TRAIN_LOSS: 0.00334, VAL_ACCU: 0.971\n",
      "   BATCH: 200, TRAIN_LOSS: 0.00241, VAL_ACCU: 0.971\n",
      "   BATCH: 225, TRAIN_LOSS: 0.00343, VAL_ACCU: 0.971\n",
      "EPOCH:  8\n",
      "   BATCH:   0, TRAIN_LOSS: 0.00240, VAL_ACCU: 0.972\n",
      "   BATCH:  25, TRAIN_LOSS: 0.00411, VAL_ACCU: 0.971\n",
      "   BATCH:  50, TRAIN_LOSS: 0.00388, VAL_ACCU: 0.972\n",
      "   BATCH:  75, TRAIN_LOSS: 0.00343, VAL_ACCU: 0.971\n",
      "   BATCH: 100, TRAIN_LOSS: 0.00332, VAL_ACCU: 0.972\n",
      "   BATCH: 125, TRAIN_LOSS: 0.00137, VAL_ACCU: 0.972\n",
      "   BATCH: 150, TRAIN_LOSS: 0.00438, VAL_ACCU: 0.972\n",
      "   BATCH: 175, TRAIN_LOSS: 0.00378, VAL_ACCU: 0.972\n",
      "   BATCH: 200, TRAIN_LOSS: 0.00151, VAL_ACCU: 0.972\n",
      "   BATCH: 225, TRAIN_LOSS: 0.00409, VAL_ACCU: 0.972\n",
      "EPOCH:  9\n",
      "   BATCH:   0, TRAIN_LOSS: 0.00245, VAL_ACCU: 0.972\n",
      "   BATCH:  25, TRAIN_LOSS: 0.00451, VAL_ACCU: 0.972\n",
      "   BATCH:  50, TRAIN_LOSS: 0.00426, VAL_ACCU: 0.972\n",
      "   BATCH:  75, TRAIN_LOSS: 0.00357, VAL_ACCU: 0.972\n",
      "   BATCH: 100, TRAIN_LOSS: 0.00274, VAL_ACCU: 0.972\n",
      "   BATCH: 125, TRAIN_LOSS: 0.00447, VAL_ACCU: 0.972\n",
      "   BATCH: 150, TRAIN_LOSS: 0.00336, VAL_ACCU: 0.972\n",
      "   BATCH: 175, TRAIN_LOSS: 0.00350, VAL_ACCU: 0.971\n",
      "   BATCH: 200, TRAIN_LOSS: 0.00407, VAL_ACCU: 0.972\n",
      "   BATCH: 225, TRAIN_LOSS: 0.00264, VAL_ACCU: 0.972\n",
      "EPOCH:  10\n",
      "   BATCH:   0, TRAIN_LOSS: 0.00310, VAL_ACCU: 0.972\n",
      "   BATCH:  25, TRAIN_LOSS: 0.00336, VAL_ACCU: 0.972\n",
      "   BATCH:  50, TRAIN_LOSS: 0.00150, VAL_ACCU: 0.972\n",
      "   BATCH:  75, TRAIN_LOSS: 0.00448, VAL_ACCU: 0.972\n",
      "   BATCH: 100, TRAIN_LOSS: 0.00365, VAL_ACCU: 0.972\n",
      "   BATCH: 125, TRAIN_LOSS: 0.00503, VAL_ACCU: 0.972\n",
      "   BATCH: 150, TRAIN_LOSS: 0.00265, VAL_ACCU: 0.972\n",
      "   BATCH: 175, TRAIN_LOSS: 0.00341, VAL_ACCU: 0.972\n",
      "   BATCH: 200, TRAIN_LOSS: 0.00288, VAL_ACCU: 0.972\n",
      "   BATCH: 225, TRAIN_LOSS: 0.00223, VAL_ACCU: 0.972\n",
      "EPOCH:  11\n",
      "   BATCH:   0, TRAIN_LOSS: 0.00315, VAL_ACCU: 0.972\n",
      "   BATCH:  25, TRAIN_LOSS: 0.00291, VAL_ACCU: 0.972\n",
      "   BATCH:  50, TRAIN_LOSS: 0.00253, VAL_ACCU: 0.972\n",
      "   BATCH:  75, TRAIN_LOSS: 0.00247, VAL_ACCU: 0.972\n",
      "   BATCH: 100, TRAIN_LOSS: 0.00303, VAL_ACCU: 0.972\n",
      "   BATCH: 125, TRAIN_LOSS: 0.00356, VAL_ACCU: 0.972\n",
      "   BATCH: 150, TRAIN_LOSS: 0.00313, VAL_ACCU: 0.972\n",
      "   BATCH: 175, TRAIN_LOSS: 0.00441, VAL_ACCU: 0.972\n",
      "   BATCH: 200, TRAIN_LOSS: 0.00458, VAL_ACCU: 0.972\n",
      "   BATCH: 225, TRAIN_LOSS: 0.00334, VAL_ACCU: 0.972\n",
      "EPOCH:  12\n",
      "   BATCH:   0, TRAIN_LOSS: 0.00244, VAL_ACCU: 0.972\n",
      "   BATCH:  25, TRAIN_LOSS: 0.00608, VAL_ACCU: 0.972\n",
      "   BATCH:  50, TRAIN_LOSS: 0.00209, VAL_ACCU: 0.972\n",
      "   BATCH:  75, TRAIN_LOSS: 0.00353, VAL_ACCU: 0.972\n",
      "   BATCH: 100, TRAIN_LOSS: 0.00224, VAL_ACCU: 0.972\n",
      "   BATCH: 125, TRAIN_LOSS: 0.00284, VAL_ACCU: 0.972\n",
      "   BATCH: 150, TRAIN_LOSS: 0.00234, VAL_ACCU: 0.972\n",
      "   BATCH: 175, TRAIN_LOSS: 0.00455, VAL_ACCU: 0.972\n",
      "   BATCH: 200, TRAIN_LOSS: 0.00169, VAL_ACCU: 0.972\n",
      "   BATCH: 225, TRAIN_LOSS: 0.00288, VAL_ACCU: 0.972\n",
      "EPOCH:  13\n",
      "   BATCH:   0, TRAIN_LOSS: 0.00407, VAL_ACCU: 0.972\n",
      "   BATCH:  25, TRAIN_LOSS: 0.00284, VAL_ACCU: 0.972\n",
      "   BATCH:  50, TRAIN_LOSS: 0.00303, VAL_ACCU: 0.973\n",
      "   BATCH:  75, TRAIN_LOSS: 0.00293, VAL_ACCU: 0.973\n",
      "   BATCH: 100, TRAIN_LOSS: 0.00257, VAL_ACCU: 0.972\n",
      "   BATCH: 125, TRAIN_LOSS: 0.00290, VAL_ACCU: 0.972\n",
      "   BATCH: 150, TRAIN_LOSS: 0.00375, VAL_ACCU: 0.972\n",
      "   BATCH: 175, TRAIN_LOSS: 0.00302, VAL_ACCU: 0.972\n",
      "   BATCH: 200, TRAIN_LOSS: 0.00352, VAL_ACCU: 0.972\n",
      "   BATCH: 225, TRAIN_LOSS: 0.00321, VAL_ACCU: 0.972\n",
      "EPOCH:  14\n",
      "   BATCH:   0, TRAIN_LOSS: 0.00344, VAL_ACCU: 0.972\n",
      "   BATCH:  25, TRAIN_LOSS: 0.00337, VAL_ACCU: 0.972\n",
      "   BATCH:  50, TRAIN_LOSS: 0.00298, VAL_ACCU: 0.972\n",
      "   BATCH:  75, TRAIN_LOSS: 0.00324, VAL_ACCU: 0.972\n",
      "   BATCH: 100, TRAIN_LOSS: 0.00267, VAL_ACCU: 0.972\n",
      "   BATCH: 125, TRAIN_LOSS: 0.00391, VAL_ACCU: 0.972\n",
      "   BATCH: 150, TRAIN_LOSS: 0.00351, VAL_ACCU: 0.972\n",
      "   BATCH: 175, TRAIN_LOSS: 0.00189, VAL_ACCU: 0.973\n",
      "   BATCH: 200, TRAIN_LOSS: 0.00349, VAL_ACCU: 0.972\n",
      "   BATCH: 225, TRAIN_LOSS: 0.00213, VAL_ACCU: 0.972\n"
     ]
    },
    {
     "data": {
      "image/png": "[encoded data removed]",
      "text/plain": [
       "<Figure size 1080x288 with 2 Axes>"
      ]
     },
     "metadata": {},
     "output_type": "display_data"
    }
   ],
   "source": [
    "loss_list, accuracy_list = train(model, optim, lr_scheduler, train_data, test_data, epochs, batch_size)\n",
    "total_loss = total_loss + loss_list\n",
    "total_accu = total_accu + accuracy_list\n",
    "plot_graph(total_loss, total_accu)"
   ]
  },
  {
   "cell_type": "code",
   "execution_count": 12,
   "metadata": {},
   "outputs": [
    {
     "name": "stdout",
     "output_type": "stream",
     "text": [
      "ACCURACY - Test data: 97.23%\n"
     ]
    }
   ],
   "source": [
    "evaluate(model, test_data, print_accu=True)"
   ]
  },
  {
   "cell_type": "code",
   "execution_count": null,
   "metadata": {},
   "outputs": [],
   "source": []
  },
  {
   "cell_type": "code",
   "execution_count": null,
   "metadata": {},
   "outputs": [],
   "source": []
  },
  {
   "cell_type": "code",
   "execution_count": null,
   "metadata": {},
   "outputs": [],
   "source": []
  }
 ],
 "metadata": {
  "kernelspec": {
   "display_name": "Python 3",
   "language": "python",
   "name": "python3"
  },
  "language_info": {
   "codemirror_mode": {
    "name": "ipython",
    "version": 3
   },
   "file_extension": ".py",
   "mimetype": "text/x-python",
   "name": "python",
   "nbconvert_exporter": "python",
   "pygments_lexer": "ipython3",
   "version": "3.6.9"
  }
 },
 "nbformat": 4,
 "nbformat_minor": 4
}
